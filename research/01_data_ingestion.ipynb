{
 "cells": [
  {
   "cell_type": "code",
   "execution_count": 1,
   "id": "6b9d4b18",
   "metadata": {},
   "outputs": [],
   "source": [
    "import os"
   ]
  },
  {
   "cell_type": "code",
   "execution_count": 2,
   "id": "74a140f0",
   "metadata": {},
   "outputs": [
    {
     "data": {
      "text/plain": [
       "'f:\\\\Git Projects\\\\Venkey-Chicken-Disease-Classification\\\\research'"
      ]
     },
     "execution_count": 2,
     "metadata": {},
     "output_type": "execute_result"
    }
   ],
   "source": [
    "%pwd"
   ]
  },
  {
   "cell_type": "code",
   "execution_count": 3,
   "id": "0fea9405",
   "metadata": {},
   "outputs": [],
   "source": [
    "os.chdir(\"../\")"
   ]
  },
  {
   "cell_type": "code",
   "execution_count": 11,
   "id": "1bd5dbf2",
   "metadata": {},
   "outputs": [
    {
     "data": {
      "text/plain": [
       "'f:\\\\Git Projects\\\\Venkey-Chicken-Disease-Classification'"
      ]
     },
     "execution_count": 11,
     "metadata": {},
     "output_type": "execute_result"
    }
   ],
   "source": [
    "%pwd"
   ]
  },
  {
   "cell_type": "code",
   "execution_count": 24,
   "id": "59fc55e4",
   "metadata": {},
   "outputs": [],
   "source": [
    "from dataclasses import dataclass\n",
    "from pathlib import Path\n",
    "\n",
    "\n",
    "@dataclass(frozen=True)\n",
    "class AWSConfig:\n",
    "    access_key_id: str\n",
    "    secret_access_key: str\n",
    "    region_name: str\n",
    "\n",
    "@dataclass(frozen=True)\n",
    "class DataIngestionConfig:\n",
    "    root_dir: Path\n",
    "    bucket_name: str\n",
    "    file_key: str\n",
    "    local_data_file: Path\n",
    "    unzip_dir: Path"
   ]
  },
  {
   "cell_type": "code",
   "execution_count": 25,
   "id": "bfbb7589",
   "metadata": {},
   "outputs": [],
   "source": [
    "from ChickenDiseaseClassifier.constants import *\n",
    "from ChickenDiseaseClassifier.utils.common import read_yaml, create_directories"
   ]
  },
  {
   "cell_type": "code",
   "execution_count": 26,
   "id": "186ffd62",
   "metadata": {},
   "outputs": [],
   "source": [
    "class ConfigurationManager:\n",
    "    def __init__(\n",
    "        self,\n",
    "        config_filepath = CONFIG_FILE_PATH,\n",
    "        params_filepath = PARAMS_FILE_PATH):\n",
    "\n",
    "        self.config = read_yaml(config_filepath)\n",
    "        self.params = read_yaml(params_filepath)\n",
    "\n",
    "        create_directories([self.config.artifacts_root])\n",
    "\n",
    "\n",
    "    \n",
    "    def get_data_ingestion_config(self) -> DataIngestionConfig:\n",
    "        config = self.config.data_ingestion\n",
    "        create_directories([config.root_dir])\n",
    "        return DataIngestionConfig(\n",
    "            root_dir=Path(config.root_dir),\n",
    "            bucket_name=config.bucket_name,\n",
    "            file_key=config.file_key,\n",
    "            local_data_file=Path(config.local_data_file),\n",
    "            unzip_dir=Path(config.unzip_dir)\n",
    "        )\n",
    "    \n",
    "    def get_aws_config(self) -> AWSConfig:\n",
    "        if not hasattr(self.config, \"aws\") or self.config.aws is None:\n",
    "            raise ValueError(\"AWS config not found. Add 'aws' section to config.yaml or skip S3 download.\")\n",
    "        aws = self.config.aws\n",
    "        return AWSConfig(\n",
    "            access_key_id=aws.access_key_id,\n",
    "            secret_access_key=aws.secret_access_key,\n",
    "            region_name=aws.region_name\n",
    "        )"
   ]
  },
  {
   "cell_type": "code",
   "execution_count": 27,
   "id": "665a58cd",
   "metadata": {},
   "outputs": [],
   "source": [
    "import zipfile\n",
    "from ChickenDiseaseClassifier import logger"
   ]
  },
  {
   "cell_type": "code",
   "execution_count": 28,
   "id": "3ba2b8d8",
   "metadata": {},
   "outputs": [],
   "source": [
    "class DataIngestion:\n",
    "    def __init__(self, config: DataIngestionConfig, aws_config=None):\n",
    "        self.config = config\n",
    "        self.aws_config = aws_config\n",
    "\n",
    "    def download_file_from_s3(self):\n",
    "        # Optional path if using S3; requires boto3.\n",
    "        import boto3  # import only if used\n",
    "        if not os.path.exists(self.config.local_data_file):\n",
    "            s3_client = boto3.client(\n",
    "                \"s3\",\n",
    "                aws_access_key_id=self.aws_config.access_key_id,\n",
    "                aws_secret_access_key=self.aws_config.secret_access_key,\n",
    "                region_name=self.aws_config.region_name\n",
    "            )\n",
    "            s3_client.download_file(\n",
    "                Bucket=self.config.bucket_name,\n",
    "                Key=self.config.file_key,\n",
    "                Filename=str(self.config.local_data_file)\n",
    "            )\n",
    "            logger.info(f\"{self.config.local_data_file} downloaded from S3.\")\n",
    "        else:\n",
    "            logger.info(f\"File already exists: {self.config.local_data_file}\")\n",
    "\n",
    "    def extract_zip_file(self):\n",
    "        unzip_path = self.config.unzip_dir\n",
    "        os.makedirs(unzip_path, exist_ok=True)\n",
    "        with zipfile.ZipFile(self.config.local_data_file, \"r\") as zip_ref:\n",
    "            zip_ref.extractall(unzip_path)\n",
    "        logger.info(f\"Extracted files to: {unzip_path}\")\n"
   ]
  },
  {
   "cell_type": "code",
   "execution_count": 29,
   "id": "eae476f0",
   "metadata": {},
   "outputs": [
    {
     "name": "stdout",
     "output_type": "stream",
     "text": [
      "[2025-08-17 10:30:14,563: INFO: common: yaml file: config\\config.yaml loaded successfully]\n",
      "[2025-08-17 10:30:14,566: INFO: common: yaml file: params.yaml loaded successfully]\n",
      "[2025-08-17 10:30:14,568: INFO: common: created directory at: artifacts]\n",
      "[2025-08-17 10:30:14,569: INFO: common: created directory at: artifacts/data_ingestion]\n",
      "[2025-08-17 10:30:17,675: INFO: 3976020790: Extracted files to: artifacts\\data_ingestion]\n"
     ]
    }
   ],
   "source": [
    "try:\n",
    "    cfg = ConfigurationManager()\n",
    "    di_cfg = cfg.get_data_ingestion_config()\n",
    "\n",
    "    # Option A: Local file already present at data_ingestion.local_data_file\n",
    "    # Ensure artifacts/data_ingestion/data.zip exists before running.\n",
    "    data_ingestion = DataIngestion(config=di_cfg, aws_config=None)\n",
    "    # Optionally: If using S3, uncomment the next two lines and ensure get_aws_config works.\n",
    "    # aws_cfg = cfg.get_aws_config()\n",
    "    # data_ingestion = DataIngestion(config=di_cfg, aws_config=aws_cfg); data_ingestion.download_file_from_s3()\n",
    "\n",
    "    data_ingestion.extract_zip_file()\n",
    "\n",
    "except Exception as e:\n",
    "    raise e\n"
   ]
  },
  {
   "cell_type": "code",
   "execution_count": null,
   "id": "e6c15e8d",
   "metadata": {},
   "outputs": [],
   "source": []
  }
 ],
 "metadata": {
  "kernelspec": {
   "display_name": "Python 3",
   "language": "python",
   "name": "python3"
  },
  "language_info": {
   "codemirror_mode": {
    "name": "ipython",
    "version": 3
   },
   "file_extension": ".py",
   "mimetype": "text/x-python",
   "name": "python",
   "nbconvert_exporter": "python",
   "pygments_lexer": "ipython3",
   "version": "3.10.0"
  }
 },
 "nbformat": 4,
 "nbformat_minor": 5
}
